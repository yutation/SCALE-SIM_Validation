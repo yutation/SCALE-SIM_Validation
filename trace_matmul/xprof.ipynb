{
 "cells": [
  {
   "cell_type": "code",
   "execution_count": null,
   "id": "46936248",
   "metadata": {},
   "outputs": [
    {
     "name": "stdout",
     "output_type": "stream",
     "text": [
      "Attempting to start XProf server:\n",
      "  Log Directory: ./matmul_128x2x2\n",
      "  Port: 6006\n",
      "XProf at http://:::6006/ (Press CTRL+C to quit)\n",
      "WARNING: All log messages before absl::InitializeLog() is called are written to STDERR\n",
      "I0000 00:00:1752862675.347048  371684 xplane_to_tools_data.cc:389] serving tool: tool_names with options: {}\n",
      "I0000 00:00:1752862675.455306  371678 xplane_to_tools_data.cc:389] serving tool: overview_page with options: {use_saved_result:0:0;}\n",
      "I0000 00:00:1752862675.456642  371678 xprof_thread_pool_executor.cc:22] Creating derived_timeline_trace_events XprofThreadPoolExecutor with 240 threads.\n",
      "I0000 00:00:1752862675.538403  371678 xprof_thread_pool_executor.cc:22] Creating op_stats_threads XprofThreadPoolExecutor with 240 threads.\n",
      "/home/Owner/.local/lib/python3.10/site-packages/xprof/convert/input_pipeline_proto_to_gviz.py:218: UserWarning: Could not unpack to TpuBottleneckAnalysis\n",
      "  warnings.warn(\"Could not unpack to TpuBottleneckAnalysis\")\n",
      "I0000 00:00:1752862689.313818  371684 xplane_to_tools_data.cc:389] serving tool: trace_viewer@ with options: {use_saved_result:1:0;resolution:9240:2;}\n",
      "I0000 00:00:1752862689.314971  371684 xprof_thread_pool_executor.cc:22] Creating derived_timeline_trace_events XprofThreadPoolExecutor with 240 threads.\n",
      "I0000 00:00:1752862689.392459  371684 trace_events.cc:275] Storing 421 as LevelDb table fast file: matmul_128x2x2/plugins/profile/2025_07_10_22_15_24/t1v-n-3b7e916a-w-0.SSTABLE with 0 events dropped.\n",
      "I0000 00:00:1752862689.392937  371684 trace_events.cc:389] Loaded 421 events after filtering 0 events from LevelDb fast file: ./matmul_128x2x2/plugins/profile/2025_07_10_22_15_24/t1v-n-3b7e916a-w-0.SSTABLE\n",
      "I0000 00:00:1752862689.392960  371684 trace_events.cc:398] Added 421 visible events from LevelDb fast file: ./matmul_128x2x2/plugins/profile/2025_07_10_22_15_24/t1v-n-3b7e916a-w-0.SSTABLE\n",
      "I0000 00:00:1752862689.393459  371684 trace_events_to_json.h:74] Generated JSON events: complete: 421 complete+flow: 0 counter: 0 async: 0\n",
      "I0000 00:00:1752862696.869877  371685 xplane_to_tools_data.cc:389] serving tool: graph_viewer with options: {format:0:0;show_metadata:0:0;merge_fusion:0:0;use_saved_result:1:0;graph_width:1:0;type:adj_nodes:2;module_name:jit_validation_matrix_multiply(6724248886681041351):2;node_name:fusion:2;}\n",
      "I0000 00:00:1752862701.881531  371683 xplane_to_tools_data.cc:389] serving tool: tool_names with options: {}\n",
      "I0000 00:00:1752862702.041648  371678 xplane_to_tools_data.cc:389] serving tool: op_profile with options: {use_saved_result:1:0;}\n",
      "I0000 00:00:1752862702.235030  371682 xplane_to_tools_data.cc:389] serving tool: graph_viewer with options: {merge_fusion:0:0;format:html:2;type:graph:2;graph_width:1:0;show_metadata:0:0;module_name:jit_validation_matrix_multiply(6724248886681041351):2;node_name:fusion:2;use_saved_result:1:0;}\n"
     ]
    }
   ],
   "source": [
    "!xprof --port=6006 --logdir=./matmul_128x2x2"
   ]
  }
 ],
 "metadata": {
  "kernelspec": {
   "display_name": "Python 3",
   "language": "python",
   "name": "python3"
  },
  "language_info": {
   "codemirror_mode": {
    "name": "ipython",
    "version": 3
   },
   "file_extension": ".py",
   "mimetype": "text/x-python",
   "name": "python",
   "nbconvert_exporter": "python",
   "pygments_lexer": "ipython3",
   "version": "3.10.12"
  }
 },
 "nbformat": 4,
 "nbformat_minor": 5
}
