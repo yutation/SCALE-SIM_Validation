{
 "cells": [
  {
   "cell_type": "code",
   "execution_count": null,
   "id": "46936248",
   "metadata": {},
   "outputs": [
    {
     "name": "stdout",
     "output_type": "stream",
     "text": [
      "Attempting to start XProf server:\n",
      "  Log Directory: ./trace3/convolution_256x256\n",
      "  Port: 6006\n",
      "XProf at http://:::6006/ (Press CTRL+C to quit)\n",
      "WARNING: All log messages before absl::InitializeLog() is called are written to STDERR\n",
      "I0000 00:00:1752881880.675119  405987 xplane_to_tools_data.cc:389] serving tool: tool_names with options: {}\n",
      "I0000 00:00:1752881880.783478  405982 xplane_to_tools_data.cc:389] serving tool: overview_page with options: {use_saved_result:0:0;}\n",
      "I0000 00:00:1752881880.784866  405982 xprof_thread_pool_executor.cc:22] Creating derived_timeline_trace_events XprofThreadPoolExecutor with 240 threads.\n",
      "I0000 00:00:1752881880.876180  405982 xprof_thread_pool_executor.cc:22] Creating op_stats_threads XprofThreadPoolExecutor with 240 threads.\n",
      "/home/Owner/.local/lib/python3.10/site-packages/xprof/convert/input_pipeline_proto_to_gviz.py:218: UserWarning: Could not unpack to TpuBottleneckAnalysis\n",
      "  warnings.warn(\"Could not unpack to TpuBottleneckAnalysis\")\n",
      "I0000 00:00:1752881893.316419  405987 xplane_to_tools_data.cc:389] serving tool: trace_viewer@ with options: {use_saved_result:1:0;resolution:5144:2;}\n",
      "I0000 00:00:1752881893.317590  405987 xprof_thread_pool_executor.cc:22] Creating derived_timeline_trace_events XprofThreadPoolExecutor with 240 threads.\n",
      "I0000 00:00:1752881893.393023  405987 trace_events.cc:275] Storing 463 as LevelDb table fast file: trace3/convolution_256x256/plugins/profile/2025_07_03_23_17_54/t1v-n-3b7e916a-w-0.SSTABLE with 0 events dropped.\n",
      "I0000 00:00:1752881893.393555  405987 trace_events.cc:389] Loaded 463 events after filtering 0 events from LevelDb fast file: ./trace3/convolution_256x256/plugins/profile/2025_07_03_23_17_54/t1v-n-3b7e916a-w-0.SSTABLE\n",
      "I0000 00:00:1752881893.393580  405987 trace_events.cc:398] Added 463 visible events from LevelDb fast file: ./trace3/convolution_256x256/plugins/profile/2025_07_03_23_17_54/t1v-n-3b7e916a-w-0.SSTABLE\n",
      "I0000 00:00:1752881893.394157  405987 trace_events_to_json.h:74] Generated JSON events: complete: 463 complete+flow: 0 counter: 0 async: 0\n",
      "I0000 00:00:1752881899.540657  405989 xplane_to_tools_data.cc:389] serving tool: graph_viewer with options: {format:0:0;type:adj_nodes:2;show_metadata:0:0;use_saved_result:1:0;module_name:jit_validation_convolve_scalesim(12694998553859822764):2;merge_fusion:0:0;graph_width:1:0;node_name:convolution_select_fusion:2;}\n",
      "I0000 00:00:1752881911.639676  405987 xplane_to_tools_data.cc:389] serving tool: tool_names with options: {}\n",
      "I0000 00:00:1752881911.792832  405982 xplane_to_tools_data.cc:389] serving tool: op_profile with options: {use_saved_result:1:0;}\n",
      "I0000 00:00:1752881911.988852  405986 xplane_to_tools_data.cc:389] serving tool: graph_viewer with options: {format:html:2;merge_fusion:0:0;type:graph:2;graph_width:1:0;show_metadata:0:0;module_name:jit_validation_convolve_scalesim(12694998553859822764):2;node_name:convolution_select_fusion:2;use_saved_result:1:0;}\n"
     ]
    }
   ],
   "source": [
    "!xprof --port=6006 --logdir=./trace3/convolution_256x256"
   ]
  }
 ],
 "metadata": {
  "kernelspec": {
   "display_name": "Python 3",
   "language": "python",
   "name": "python3"
  },
  "language_info": {
   "codemirror_mode": {
    "name": "ipython",
    "version": 3
   },
   "file_extension": ".py",
   "mimetype": "text/x-python",
   "name": "python",
   "nbconvert_exporter": "python",
   "pygments_lexer": "ipython3",
   "version": "3.10.12"
  }
 },
 "nbformat": 4,
 "nbformat_minor": 5
}
